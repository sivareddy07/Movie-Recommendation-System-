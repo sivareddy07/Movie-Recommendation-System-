{
 "cells": [
  {
   "cell_type": "code",
   "execution_count": 26,
   "id": "2bae53cf",
   "metadata": {},
   "outputs": [],
   "source": [
    "import pandas as pd\n",
    "\n",
    "# https://files.grouplens.org/datasets/movielens/ml-25m.zip\n",
    "movies = pd.read_csv(\"movies.csv\")"
   ]
  },
  {
   "cell_type": "code",
   "execution_count": 27,
   "id": "18d76cf7",
   "metadata": {},
   "outputs": [
    {
     "data": {
      "text/html": [
       "<div>\n",
       "<style scoped>\n",
       "    .dataframe tbody tr th:only-of-type {\n",
       "        vertical-align: middle;\n",
       "    }\n",
       "\n",
       "    .dataframe tbody tr th {\n",
       "        vertical-align: top;\n",
       "    }\n",
       "\n",
       "    .dataframe thead th {\n",
       "        text-align: right;\n",
       "    }\n",
       "</style>\n",
       "<table border=\"1\" class=\"dataframe\">\n",
       "  <thead>\n",
       "    <tr style=\"text-align: right;\">\n",
       "      <th></th>\n",
       "      <th>movieId</th>\n",
       "      <th>title</th>\n",
       "      <th>genres</th>\n",
       "    </tr>\n",
       "  </thead>\n",
       "  <tbody>\n",
       "    <tr>\n",
       "      <th>0</th>\n",
       "      <td>1</td>\n",
       "      <td>Toy Story (1995)</td>\n",
       "      <td>Adventure|Animation|Children|Comedy|Fantasy</td>\n",
       "    </tr>\n",
       "    <tr>\n",
       "      <th>1</th>\n",
       "      <td>2</td>\n",
       "      <td>Jumanji (1995)</td>\n",
       "      <td>Adventure|Children|Fantasy</td>\n",
       "    </tr>\n",
       "    <tr>\n",
       "      <th>2</th>\n",
       "      <td>3</td>\n",
       "      <td>Grumpier Old Men (1995)</td>\n",
       "      <td>Comedy|Romance</td>\n",
       "    </tr>\n",
       "    <tr>\n",
       "      <th>3</th>\n",
       "      <td>4</td>\n",
       "      <td>Waiting to Exhale (1995)</td>\n",
       "      <td>Comedy|Drama|Romance</td>\n",
       "    </tr>\n",
       "    <tr>\n",
       "      <th>4</th>\n",
       "      <td>5</td>\n",
       "      <td>Father of the Bride Part II (1995)</td>\n",
       "      <td>Comedy</td>\n",
       "    </tr>\n",
       "  </tbody>\n",
       "</table>\n",
       "</div>"
      ],
      "text/plain": [
       "   movieId                               title  \\\n",
       "0        1                    Toy Story (1995)   \n",
       "1        2                      Jumanji (1995)   \n",
       "2        3             Grumpier Old Men (1995)   \n",
       "3        4            Waiting to Exhale (1995)   \n",
       "4        5  Father of the Bride Part II (1995)   \n",
       "\n",
       "                                        genres  \n",
       "0  Adventure|Animation|Children|Comedy|Fantasy  \n",
       "1                   Adventure|Children|Fantasy  \n",
       "2                               Comedy|Romance  \n",
       "3                         Comedy|Drama|Romance  \n",
       "4                                       Comedy  "
      ]
     },
     "execution_count": 27,
     "metadata": {},
     "output_type": "execute_result"
    }
   ],
   "source": [
    "movies.head()"
   ]
  },
  {
   "cell_type": "code",
   "execution_count": 28,
   "id": "1dc2ea35",
   "metadata": {},
   "outputs": [],
   "source": [
    "import re\n",
    "\n",
    "def clean_title(title):\n",
    "    title = re.sub(\"[^a-zA-Z0-9 ]\", \"\", title)\n",
    "    return title"
   ]
  },
  {
   "cell_type": "code",
   "execution_count": 29,
   "id": "cafbab76",
   "metadata": {},
   "outputs": [],
   "source": [
    "movies[\"clean_title\"] = movies[\"title\"].apply(clean_title)"
   ]
  },
  {
   "cell_type": "code",
   "execution_count": 30,
   "id": "ff547bb5",
   "metadata": {},
   "outputs": [
    {
     "data": {
      "text/html": [
       "<div>\n",
       "<style scoped>\n",
       "    .dataframe tbody tr th:only-of-type {\n",
       "        vertical-align: middle;\n",
       "    }\n",
       "\n",
       "    .dataframe tbody tr th {\n",
       "        vertical-align: top;\n",
       "    }\n",
       "\n",
       "    .dataframe thead th {\n",
       "        text-align: right;\n",
       "    }\n",
       "</style>\n",
       "<table border=\"1\" class=\"dataframe\">\n",
       "  <thead>\n",
       "    <tr style=\"text-align: right;\">\n",
       "      <th></th>\n",
       "      <th>movieId</th>\n",
       "      <th>title</th>\n",
       "      <th>genres</th>\n",
       "      <th>clean_title</th>\n",
       "    </tr>\n",
       "  </thead>\n",
       "  <tbody>\n",
       "    <tr>\n",
       "      <th>0</th>\n",
       "      <td>1</td>\n",
       "      <td>Toy Story (1995)</td>\n",
       "      <td>Adventure|Animation|Children|Comedy|Fantasy</td>\n",
       "      <td>Toy Story 1995</td>\n",
       "    </tr>\n",
       "    <tr>\n",
       "      <th>1</th>\n",
       "      <td>2</td>\n",
       "      <td>Jumanji (1995)</td>\n",
       "      <td>Adventure|Children|Fantasy</td>\n",
       "      <td>Jumanji 1995</td>\n",
       "    </tr>\n",
       "    <tr>\n",
       "      <th>2</th>\n",
       "      <td>3</td>\n",
       "      <td>Grumpier Old Men (1995)</td>\n",
       "      <td>Comedy|Romance</td>\n",
       "      <td>Grumpier Old Men 1995</td>\n",
       "    </tr>\n",
       "    <tr>\n",
       "      <th>3</th>\n",
       "      <td>4</td>\n",
       "      <td>Waiting to Exhale (1995)</td>\n",
       "      <td>Comedy|Drama|Romance</td>\n",
       "      <td>Waiting to Exhale 1995</td>\n",
       "    </tr>\n",
       "    <tr>\n",
       "      <th>4</th>\n",
       "      <td>5</td>\n",
       "      <td>Father of the Bride Part II (1995)</td>\n",
       "      <td>Comedy</td>\n",
       "      <td>Father of the Bride Part II 1995</td>\n",
       "    </tr>\n",
       "    <tr>\n",
       "      <th>...</th>\n",
       "      <td>...</td>\n",
       "      <td>...</td>\n",
       "      <td>...</td>\n",
       "      <td>...</td>\n",
       "    </tr>\n",
       "    <tr>\n",
       "      <th>62418</th>\n",
       "      <td>209157</td>\n",
       "      <td>We (2018)</td>\n",
       "      <td>Drama</td>\n",
       "      <td>We 2018</td>\n",
       "    </tr>\n",
       "    <tr>\n",
       "      <th>62419</th>\n",
       "      <td>209159</td>\n",
       "      <td>Window of the Soul (2001)</td>\n",
       "      <td>Documentary</td>\n",
       "      <td>Window of the Soul 2001</td>\n",
       "    </tr>\n",
       "    <tr>\n",
       "      <th>62420</th>\n",
       "      <td>209163</td>\n",
       "      <td>Bad Poems (2018)</td>\n",
       "      <td>Comedy|Drama</td>\n",
       "      <td>Bad Poems 2018</td>\n",
       "    </tr>\n",
       "    <tr>\n",
       "      <th>62421</th>\n",
       "      <td>209169</td>\n",
       "      <td>A Girl Thing (2001)</td>\n",
       "      <td>(no genres listed)</td>\n",
       "      <td>A Girl Thing 2001</td>\n",
       "    </tr>\n",
       "    <tr>\n",
       "      <th>62422</th>\n",
       "      <td>209171</td>\n",
       "      <td>Women of Devil's Island (1962)</td>\n",
       "      <td>Action|Adventure|Drama</td>\n",
       "      <td>Women of Devils Island 1962</td>\n",
       "    </tr>\n",
       "  </tbody>\n",
       "</table>\n",
       "<p>62423 rows × 4 columns</p>\n",
       "</div>"
      ],
      "text/plain": [
       "       movieId                               title  \\\n",
       "0            1                    Toy Story (1995)   \n",
       "1            2                      Jumanji (1995)   \n",
       "2            3             Grumpier Old Men (1995)   \n",
       "3            4            Waiting to Exhale (1995)   \n",
       "4            5  Father of the Bride Part II (1995)   \n",
       "...        ...                                 ...   \n",
       "62418   209157                           We (2018)   \n",
       "62419   209159           Window of the Soul (2001)   \n",
       "62420   209163                    Bad Poems (2018)   \n",
       "62421   209169                 A Girl Thing (2001)   \n",
       "62422   209171      Women of Devil's Island (1962)   \n",
       "\n",
       "                                            genres  \\\n",
       "0      Adventure|Animation|Children|Comedy|Fantasy   \n",
       "1                       Adventure|Children|Fantasy   \n",
       "2                                   Comedy|Romance   \n",
       "3                             Comedy|Drama|Romance   \n",
       "4                                           Comedy   \n",
       "...                                            ...   \n",
       "62418                                        Drama   \n",
       "62419                                  Documentary   \n",
       "62420                                 Comedy|Drama   \n",
       "62421                           (no genres listed)   \n",
       "62422                       Action|Adventure|Drama   \n",
       "\n",
       "                            clean_title  \n",
       "0                        Toy Story 1995  \n",
       "1                          Jumanji 1995  \n",
       "2                 Grumpier Old Men 1995  \n",
       "3                Waiting to Exhale 1995  \n",
       "4      Father of the Bride Part II 1995  \n",
       "...                                 ...  \n",
       "62418                           We 2018  \n",
       "62419           Window of the Soul 2001  \n",
       "62420                    Bad Poems 2018  \n",
       "62421                 A Girl Thing 2001  \n",
       "62422       Women of Devils Island 1962  \n",
       "\n",
       "[62423 rows x 4 columns]"
      ]
     },
     "execution_count": 30,
     "metadata": {},
     "output_type": "execute_result"
    }
   ],
   "source": [
    "movies"
   ]
  },
  {
   "cell_type": "code",
   "execution_count": 31,
   "id": "82fc77f4",
   "metadata": {},
   "outputs": [],
   "source": [
    "from sklearn.feature_extraction.text import TfidfVectorizer\n",
    "vectorizer = TfidfVectorizer(ngram_range=(1,2))\n",
    "\n",
    "tfidf = vectorizer.fit_transform(movies[\"clean_title\"])"
   ]
  },
  {
   "cell_type": "code",
   "execution_count": 32,
   "id": "bfe4ed30",
   "metadata": {},
   "outputs": [],
   "source": [
    "from sklearn.metrics.pairwise import cosine_similarity\n",
    "import numpy as np\n",
    "\n",
    "def search(title):\n",
    "    title = clean_title(title)\n",
    "    query_vec = vectorizer.transform([title])\n",
    "    similarity = cosine_similarity(query_vec, tfidf).flatten()\n",
    "    indices = np.argpartition(similarity, -5)[-5:]\n",
    "    results = movies.iloc[indices].iloc[::-1]\n",
    "    \n",
    "    return results"
   ]
  },
  {
   "cell_type": "code",
   "execution_count": 33,
   "id": "99576e4b",
   "metadata": {},
   "outputs": [
    {
     "data": {
      "application/vnd.jupyter.widget-view+json": {
       "model_id": "ed060ab4f66742ed845ebb9152abffec",
       "version_major": 2,
       "version_minor": 0
      },
      "text/plain": [
       "Text(value='Toy Story', description='Movie Title:')"
      ]
     },
     "metadata": {},
     "output_type": "display_data"
    },
    {
     "data": {
      "application/vnd.jupyter.widget-view+json": {
       "model_id": "aea37f3a7dc849f19b42f64cb718ce5f",
       "version_major": 2,
       "version_minor": 0
      },
      "text/plain": [
       "Output()"
      ]
     },
     "metadata": {},
     "output_type": "display_data"
    }
   ],
   "source": [
    "import ipywidgets as widgets\n",
    "from IPython.display import display\n",
    "\n",
    "movie_input = widgets.Text(\n",
    "    value='Toy Story',\n",
    "    description='Movie Title:',\n",
    "    disabled=False\n",
    ")\n",
    "movie_list = widgets.Output()\n",
    "\n",
    "def on_type(data):\n",
    "    with movie_list:\n",
    "        movie_list.clear_output()\n",
    "        title = data[\"new\"]\n",
    "        if len(title) > 5:\n",
    "            display(search(title))\n",
    "\n",
    "movie_input.observe(on_type, names='value')\n",
    "\n",
    "\n",
    "display(movie_input, movie_list)"
   ]
  },
  {
   "cell_type": "code",
   "execution_count": 34,
   "id": "5bf8e353",
   "metadata": {},
   "outputs": [],
   "source": [
    "movie_id = 89745\n",
    "\n",
    "#def find_similar_movies(movie_id):\n",
    "movie = movies[movies[\"movieId\"] == movie_id]"
   ]
  },
  {
   "cell_type": "code",
   "execution_count": 35,
   "id": "648a0c41",
   "metadata": {},
   "outputs": [],
   "source": [
    "ratings = pd.read_csv(\"ratings.csv\")"
   ]
  },
  {
   "cell_type": "code",
   "execution_count": 36,
   "id": "39f21ed9",
   "metadata": {},
   "outputs": [
    {
     "data": {
      "text/plain": [
       "userId         int64\n",
       "movieId        int64\n",
       "rating       float64\n",
       "timestamp      int64\n",
       "dtype: object"
      ]
     },
     "execution_count": 36,
     "metadata": {},
     "output_type": "execute_result"
    }
   ],
   "source": [
    "ratings.dtypes"
   ]
  },
  {
   "cell_type": "code",
   "execution_count": 37,
   "id": "434dce1e",
   "metadata": {},
   "outputs": [],
   "source": [
    "similar_users = ratings[(ratings[\"movieId\"] == movie_id) & (ratings[\"rating\"] > 4)][\"userId\"].unique()"
   ]
  },
  {
   "cell_type": "code",
   "execution_count": 38,
   "id": "4bf7cd25",
   "metadata": {},
   "outputs": [],
   "source": [
    "similar_user_recs = ratings[(ratings[\"userId\"].isin(similar_users)) & (ratings[\"rating\"] > 4)][\"movieId\"]"
   ]
  },
  {
   "cell_type": "code",
   "execution_count": 16,
   "id": "5163701b",
   "metadata": {},
   "outputs": [],
   "source": [
    "similar_user_recs = similar_user_recs.value_counts() / len(similar_users)\n",
    "\n",
    "similar_user_recs = similar_user_recs[similar_user_recs > .10]"
   ]
  },
  {
   "cell_type": "code",
   "execution_count": 17,
   "id": "12247fe8",
   "metadata": {},
   "outputs": [],
   "source": [
    "all_users = ratings[(ratings[\"movieId\"].isin(similar_user_recs.index)) & (ratings[\"rating\"] > 4)]\n"
   ]
  },
  {
   "cell_type": "code",
   "execution_count": 18,
   "id": "388043e8",
   "metadata": {},
   "outputs": [],
   "source": [
    "all_user_recs = all_users[\"movieId\"].value_counts() / len(all_users[\"userId\"].unique())\n"
   ]
  },
  {
   "cell_type": "code",
   "execution_count": 19,
   "id": "9c7ecb55",
   "metadata": {},
   "outputs": [],
   "source": [
    "rec_percentages = pd.concat([similar_user_recs, all_user_recs], axis=1)\n",
    "rec_percentages.columns = [\"similar\", \"all\"]"
   ]
  },
  {
   "cell_type": "code",
   "execution_count": 20,
   "id": "0a3b4eee",
   "metadata": {},
   "outputs": [
    {
     "data": {
      "text/html": [
       "<div>\n",
       "<style scoped>\n",
       "    .dataframe tbody tr th:only-of-type {\n",
       "        vertical-align: middle;\n",
       "    }\n",
       "\n",
       "    .dataframe tbody tr th {\n",
       "        vertical-align: top;\n",
       "    }\n",
       "\n",
       "    .dataframe thead th {\n",
       "        text-align: right;\n",
       "    }\n",
       "</style>\n",
       "<table border=\"1\" class=\"dataframe\">\n",
       "  <thead>\n",
       "    <tr style=\"text-align: right;\">\n",
       "      <th></th>\n",
       "      <th>similar</th>\n",
       "      <th>all</th>\n",
       "    </tr>\n",
       "  </thead>\n",
       "  <tbody>\n",
       "    <tr>\n",
       "      <th>89745</th>\n",
       "      <td>1.000000</td>\n",
       "      <td>0.045534</td>\n",
       "    </tr>\n",
       "    <tr>\n",
       "      <th>79132</th>\n",
       "      <td>0.615385</td>\n",
       "      <td>0.120841</td>\n",
       "    </tr>\n",
       "    <tr>\n",
       "      <th>2571</th>\n",
       "      <td>0.615385</td>\n",
       "      <td>0.262697</td>\n",
       "    </tr>\n",
       "    <tr>\n",
       "      <th>112852</th>\n",
       "      <td>0.576923</td>\n",
       "      <td>0.047285</td>\n",
       "    </tr>\n",
       "    <tr>\n",
       "      <th>58559</th>\n",
       "      <td>0.576923</td>\n",
       "      <td>0.138354</td>\n",
       "    </tr>\n",
       "    <tr>\n",
       "      <th>...</th>\n",
       "      <td>...</td>\n",
       "      <td>...</td>\n",
       "    </tr>\n",
       "    <tr>\n",
       "      <th>2951</th>\n",
       "      <td>0.115385</td>\n",
       "      <td>0.026270</td>\n",
       "    </tr>\n",
       "    <tr>\n",
       "      <th>1222</th>\n",
       "      <td>0.115385</td>\n",
       "      <td>0.075306</td>\n",
       "    </tr>\n",
       "    <tr>\n",
       "      <th>58998</th>\n",
       "      <td>0.115385</td>\n",
       "      <td>0.021016</td>\n",
       "    </tr>\n",
       "    <tr>\n",
       "      <th>1240</th>\n",
       "      <td>0.115385</td>\n",
       "      <td>0.057793</td>\n",
       "    </tr>\n",
       "    <tr>\n",
       "      <th>86377</th>\n",
       "      <td>0.115385</td>\n",
       "      <td>0.007005</td>\n",
       "    </tr>\n",
       "  </tbody>\n",
       "</table>\n",
       "<p>241 rows × 2 columns</p>\n",
       "</div>"
      ],
      "text/plain": [
       "         similar       all\n",
       "89745   1.000000  0.045534\n",
       "79132   0.615385  0.120841\n",
       "2571    0.615385  0.262697\n",
       "112852  0.576923  0.047285\n",
       "58559   0.576923  0.138354\n",
       "...          ...       ...\n",
       "2951    0.115385  0.026270\n",
       "1222    0.115385  0.075306\n",
       "58998   0.115385  0.021016\n",
       "1240    0.115385  0.057793\n",
       "86377   0.115385  0.007005\n",
       "\n",
       "[241 rows x 2 columns]"
      ]
     },
     "execution_count": 20,
     "metadata": {},
     "output_type": "execute_result"
    }
   ],
   "source": [
    "rec_percentages"
   ]
  },
  {
   "cell_type": "code",
   "execution_count": 21,
   "id": "95894051",
   "metadata": {},
   "outputs": [],
   "source": [
    "rec_percentages[\"score\"] = rec_percentages[\"similar\"] / rec_percentages[\"all\"]\n"
   ]
  },
  {
   "cell_type": "code",
   "execution_count": 22,
   "id": "893615ee",
   "metadata": {},
   "outputs": [],
   "source": [
    "rec_percentages = rec_percentages.sort_values(\"score\", ascending=False)\n"
   ]
  },
  {
   "cell_type": "code",
   "execution_count": 23,
   "id": "d2893b6e",
   "metadata": {},
   "outputs": [
    {
     "data": {
      "text/html": [
       "<div>\n",
       "<style scoped>\n",
       "    .dataframe tbody tr th:only-of-type {\n",
       "        vertical-align: middle;\n",
       "    }\n",
       "\n",
       "    .dataframe tbody tr th {\n",
       "        vertical-align: top;\n",
       "    }\n",
       "\n",
       "    .dataframe thead th {\n",
       "        text-align: right;\n",
       "    }\n",
       "</style>\n",
       "<table border=\"1\" class=\"dataframe\">\n",
       "  <thead>\n",
       "    <tr style=\"text-align: right;\">\n",
       "      <th></th>\n",
       "      <th>similar</th>\n",
       "      <th>all</th>\n",
       "      <th>score</th>\n",
       "      <th>movieId</th>\n",
       "      <th>title</th>\n",
       "      <th>genres</th>\n",
       "      <th>clean_title</th>\n",
       "    </tr>\n",
       "  </thead>\n",
       "  <tbody>\n",
       "    <tr>\n",
       "      <th>21876</th>\n",
       "      <td>0.115385</td>\n",
       "      <td>0.005254</td>\n",
       "      <td>21.961538</td>\n",
       "      <td>112623</td>\n",
       "      <td>Dawn of the Planet of the Apes (2014)</td>\n",
       "      <td>Sci-Fi</td>\n",
       "      <td>Dawn of the Planet of the Apes 2014</td>\n",
       "    </tr>\n",
       "    <tr>\n",
       "      <th>17945</th>\n",
       "      <td>0.115385</td>\n",
       "      <td>0.005254</td>\n",
       "      <td>21.961538</td>\n",
       "      <td>93721</td>\n",
       "      <td>Jiro Dreams of Sushi (2011)</td>\n",
       "      <td>Documentary</td>\n",
       "      <td>Jiro Dreams of Sushi 2011</td>\n",
       "    </tr>\n",
       "    <tr>\n",
       "      <th>25071</th>\n",
       "      <td>0.192308</td>\n",
       "      <td>0.008757</td>\n",
       "      <td>21.961538</td>\n",
       "      <td>122920</td>\n",
       "      <td>Captain America: Civil War (2016)</td>\n",
       "      <td>Action|Sci-Fi|Thriller</td>\n",
       "      <td>Captain America Civil War 2016</td>\n",
       "    </tr>\n",
       "    <tr>\n",
       "      <th>17067</th>\n",
       "      <td>1.000000</td>\n",
       "      <td>0.045534</td>\n",
       "      <td>21.961538</td>\n",
       "      <td>89745</td>\n",
       "      <td>Avengers, The (2012)</td>\n",
       "      <td>Action|Adventure|Sci-Fi|IMAX</td>\n",
       "      <td>Avengers The 2012</td>\n",
       "    </tr>\n",
       "    <tr>\n",
       "      <th>19678</th>\n",
       "      <td>0.230769</td>\n",
       "      <td>0.012259</td>\n",
       "      <td>18.824176</td>\n",
       "      <td>102125</td>\n",
       "      <td>Iron Man 3 (2013)</td>\n",
       "      <td>Action|Sci-Fi|Thriller|IMAX</td>\n",
       "      <td>Iron Man 3 2013</td>\n",
       "    </tr>\n",
       "    <tr>\n",
       "      <th>21757</th>\n",
       "      <td>0.192308</td>\n",
       "      <td>0.010508</td>\n",
       "      <td>18.301282</td>\n",
       "      <td>112175</td>\n",
       "      <td>How to Train Your Dragon 2 (2014)</td>\n",
       "      <td>Action|Adventure|Animation</td>\n",
       "      <td>How to Train Your Dragon 2 2014</td>\n",
       "    </tr>\n",
       "    <tr>\n",
       "      <th>25061</th>\n",
       "      <td>0.192308</td>\n",
       "      <td>0.010508</td>\n",
       "      <td>18.301282</td>\n",
       "      <td>122900</td>\n",
       "      <td>Ant-Man (2015)</td>\n",
       "      <td>Action|Adventure|Sci-Fi</td>\n",
       "      <td>AntMan 2015</td>\n",
       "    </tr>\n",
       "    <tr>\n",
       "      <th>21348</th>\n",
       "      <td>0.307692</td>\n",
       "      <td>0.017513</td>\n",
       "      <td>17.569231</td>\n",
       "      <td>110102</td>\n",
       "      <td>Captain America: The Winter Soldier (2014)</td>\n",
       "      <td>Action|Adventure|Sci-Fi|IMAX</td>\n",
       "      <td>Captain America The Winter Soldier 2014</td>\n",
       "    </tr>\n",
       "    <tr>\n",
       "      <th>25058</th>\n",
       "      <td>0.153846</td>\n",
       "      <td>0.008757</td>\n",
       "      <td>17.569231</td>\n",
       "      <td>122892</td>\n",
       "      <td>Avengers: Age of Ultron (2015)</td>\n",
       "      <td>Action|Adventure|Sci-Fi</td>\n",
       "      <td>Avengers Age of Ultron 2015</td>\n",
       "    </tr>\n",
       "  </tbody>\n",
       "</table>\n",
       "</div>"
      ],
      "text/plain": [
       "        similar       all      score  movieId  \\\n",
       "21876  0.115385  0.005254  21.961538   112623   \n",
       "17945  0.115385  0.005254  21.961538    93721   \n",
       "25071  0.192308  0.008757  21.961538   122920   \n",
       "17067  1.000000  0.045534  21.961538    89745   \n",
       "19678  0.230769  0.012259  18.824176   102125   \n",
       "21757  0.192308  0.010508  18.301282   112175   \n",
       "25061  0.192308  0.010508  18.301282   122900   \n",
       "21348  0.307692  0.017513  17.569231   110102   \n",
       "25058  0.153846  0.008757  17.569231   122892   \n",
       "\n",
       "                                            title  \\\n",
       "21876       Dawn of the Planet of the Apes (2014)   \n",
       "17945                 Jiro Dreams of Sushi (2011)   \n",
       "25071           Captain America: Civil War (2016)   \n",
       "17067                        Avengers, The (2012)   \n",
       "19678                           Iron Man 3 (2013)   \n",
       "21757           How to Train Your Dragon 2 (2014)   \n",
       "25061                              Ant-Man (2015)   \n",
       "21348  Captain America: The Winter Soldier (2014)   \n",
       "25058              Avengers: Age of Ultron (2015)   \n",
       "\n",
       "                             genres                              clean_title  \n",
       "21876                        Sci-Fi      Dawn of the Planet of the Apes 2014  \n",
       "17945                   Documentary                Jiro Dreams of Sushi 2011  \n",
       "25071        Action|Sci-Fi|Thriller           Captain America Civil War 2016  \n",
       "17067  Action|Adventure|Sci-Fi|IMAX                        Avengers The 2012  \n",
       "19678   Action|Sci-Fi|Thriller|IMAX                          Iron Man 3 2013  \n",
       "21757    Action|Adventure|Animation          How to Train Your Dragon 2 2014  \n",
       "25061       Action|Adventure|Sci-Fi                              AntMan 2015  \n",
       "21348  Action|Adventure|Sci-Fi|IMAX  Captain America The Winter Soldier 2014  \n",
       "25058       Action|Adventure|Sci-Fi              Avengers Age of Ultron 2015  "
      ]
     },
     "execution_count": 23,
     "metadata": {},
     "output_type": "execute_result"
    }
   ],
   "source": [
    "rec_percentages.head(10).merge(movies, left_index=True, right_on=\"movieId\")"
   ]
  },
  {
   "cell_type": "code",
   "execution_count": 24,
   "id": "875f2fca",
   "metadata": {},
   "outputs": [],
   "source": [
    "def find_similar_movies(movie_id):\n",
    "    similar_users = ratings[(ratings[\"movieId\"] == movie_id) & (ratings[\"rating\"] > 4)][\"userId\"].unique()\n",
    "    similar_user_recs = ratings[(ratings[\"userId\"].isin(similar_users)) & (ratings[\"rating\"] > 4)][\"movieId\"]\n",
    "    similar_user_recs = similar_user_recs.value_counts() / len(similar_users)\n",
    "\n",
    "    similar_user_recs = similar_user_recs[similar_user_recs > .10]\n",
    "    all_users = ratings[(ratings[\"movieId\"].isin(similar_user_recs.index)) & (ratings[\"rating\"] > 4)]\n",
    "    all_user_recs = all_users[\"movieId\"].value_counts() / len(all_users[\"userId\"].unique())\n",
    "    rec_percentages = pd.concat([similar_user_recs, all_user_recs], axis=1)\n",
    "    rec_percentages.columns = [\"similar\", \"all\"]\n",
    "    \n",
    "    rec_percentages[\"score\"] = rec_percentages[\"similar\"] / rec_percentages[\"all\"]\n",
    "    rec_percentages = rec_percentages.sort_values(\"score\", ascending=False)\n",
    "    return rec_percentages.head(10).merge(movies, left_index=True, right_on=\"movieId\")[[\"score\", \"title\", \"genres\"]]"
   ]
  },
  {
   "cell_type": "code",
   "execution_count": 25,
   "id": "ded2146d",
   "metadata": {},
   "outputs": [
    {
     "data": {
      "application/vnd.jupyter.widget-view+json": {
       "model_id": "3c79550d9de44f29998af6ba05658c3d",
       "version_major": 2,
       "version_minor": 0
      },
      "text/plain": [
       "Text(value='Toy Story', description='Movie Title:')"
      ]
     },
     "metadata": {},
     "output_type": "display_data"
    },
    {
     "data": {
      "application/vnd.jupyter.widget-view+json": {
       "model_id": "e610d08f66e74d738eb64deac2124ed0",
       "version_major": 2,
       "version_minor": 0
      },
      "text/plain": [
       "Output()"
      ]
     },
     "metadata": {},
     "output_type": "display_data"
    }
   ],
   "source": [
    "import ipywidgets as widgets\n",
    "from IPython.display import display\n",
    "\n",
    "movie_name_input = widgets.Text(\n",
    "    value='Toy Story',\n",
    "    description='Movie Title:',\n",
    "    disabled=False\n",
    ")\n",
    "recommendation_list = widgets.Output()\n",
    "\n",
    "def on_type(data):\n",
    "    with recommendation_list:\n",
    "        recommendation_list.clear_output()\n",
    "        title = data[\"new\"]\n",
    "        if len(title) > 5:\n",
    "            results = search(title)\n",
    "            movie_id = results.iloc[0][\"movieId\"]\n",
    "            display(find_similar_movies(movie_id))\n",
    "\n",
    "movie_name_input.observe(on_type, names='value')\n",
    "\n",
    "display(movie_name_input, recommendation_list)"
   ]
  },
  {
   "cell_type": "code",
   "execution_count": null,
   "id": "6d62f507",
   "metadata": {},
   "outputs": [],
   "source": []
  }
 ],
 "metadata": {
  "kernelspec": {
   "display_name": "Python 3 (ipykernel)",
   "language": "python",
   "name": "python3"
  },
  "language_info": {
   "codemirror_mode": {
    "name": "ipython",
    "version": 3
   },
   "file_extension": ".py",
   "mimetype": "text/x-python",
   "name": "python",
   "nbconvert_exporter": "python",
   "pygments_lexer": "ipython3",
   "version": "3.9.13"
  }
 },
 "nbformat": 4,
 "nbformat_minor": 5
}
